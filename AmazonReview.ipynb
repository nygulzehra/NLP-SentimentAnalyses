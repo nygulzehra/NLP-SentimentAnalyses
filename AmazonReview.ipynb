{
 "cells": [
  {
   "cell_type": "markdown",
   "id": "eba9d0be",
   "metadata": {},
   "source": [
    "## Getting Amazon Review Via Web Scraping"
   ]
  },
  {
   "cell_type": "code",
   "execution_count": 1,
   "id": "f4dc2b01",
   "metadata": {},
   "outputs": [],
   "source": [
    "import time\n",
    "from selenium import webdriver\n",
    "from selenium.webdriver.chrome.service import Service as ChromeService\n",
    "from bs4 import BeautifulSoup\n",
    "import pandas as pd"
   ]
  },
  {
   "cell_type": "code",
   "execution_count": 2,
   "id": "173c94f6",
   "metadata": {},
   "outputs": [],
   "source": [
    "# Get list of the pages"
   ]
  },
  {
   "cell_type": "code",
   "execution_count": 3,
   "id": "41b79707",
   "metadata": {},
   "outputs": [],
   "source": [
    "URL = []\n",
    "URL.append(\"https://www.amazon.com/Apple-iPhone-256GB-Space-Gray/product-reviews/B07YWB338N/ref=cm_cr_dp_d_show_all_btm?ie=UTF8&reviewerType=all_reviews\")\n",
    "page = \"https://www.amazon.com/Apple-iPhone-256GB-Space-Gray/product-reviews/B07YWB338N/ref=cm_cr_arp_d_paging_btm_next_\"\n",
    "add = \"?ie=UTF8&reviewerType=all_reviews&pageNumber=\""
   ]
  },
  {
   "cell_type": "code",
   "execution_count": 4,
   "id": "0da95ebb",
   "metadata": {},
   "outputs": [],
   "source": [
    "for i in range(2, 500):\n",
    "    URL.append(page + str(i) + add + str(i))\n"
   ]
  },
  {
   "cell_type": "code",
   "execution_count": 5,
   "id": "c703172e",
   "metadata": {},
   "outputs": [],
   "source": [
    "\n",
    "chrome_driver_path = \"/Users/zehragul/Documents/Development/chromedriver\"\n",
    "service = ChromeService(executable_path=chrome_driver_path)\n",
    "driver = webdriver.Chrome(service=service)\n"
   ]
  },
  {
   "cell_type": "code",
   "execution_count": 6,
   "id": "6a42230c",
   "metadata": {},
   "outputs": [],
   "source": [
    "header = {\n",
    "    \"User-Agent\": \"Mozilla/5.0 (Macintosh; Intel Mac OS X 10_15_5) AppleWebKit/537.36 (KHTML, like Gecko) Chrome/84.0.4147.125 Safari/537.36\",\n",
    "    \"Accept-Language\": \"en-GB,en-US;q=0.9,en;q=0.8\"\n",
    "}\n"
   ]
  },
  {
   "cell_type": "code",
   "execution_count": 7,
   "id": "c1547b35",
   "metadata": {},
   "outputs": [],
   "source": [
    "result = []\n",
    "reviews = []\n",
    "stars = []"
   ]
  },
  {
   "cell_type": "code",
   "execution_count": 8,
   "id": "2a23d32d",
   "metadata": {},
   "outputs": [],
   "source": [
    "#  Visit each page and get reviews"
   ]
  },
  {
   "cell_type": "code",
   "execution_count": null,
   "id": "1b7bb287",
   "metadata": {},
   "outputs": [],
   "source": [
    "\n",
    "for i in range(0, len(URL)):\n",
    "    #  open webpage\n",
    "    driver.get(URL[i])\n",
    "    # driver.implicitly_wait(5)\n",
    "    time.sleep(2)\n",
    "    # get reviews from page\n",
    "    soup = BeautifulSoup(driver.page_source, \"html.parser\")\n",
    "    review = soup.find_all(\"span\", {\"class\": \"a-size-base review-text review-text-content\"})\n",
    "    #  get stars from page\n",
    "    soup_text = soup.find_all(\"div\", {\"class\": \"a-section a-spacing-none reviews-content a-size-base\"})\n",
    "    star = soup.find_all(attrs={\"data-hook\": \"review-star-rating\"})\n",
    "\n",
    "    #  get each star\n",
    "    for j in range(0, len(star)):\n",
    "        text = star[j].text\n",
    "        stars.append(text[0:3])\n",
    "        \n",
    "\n",
    "    #  get each review\n",
    "    for j in range(0, len(review)):\n",
    "        reviews.append(review[j].text)\n",
    "        \n"
   ]
  },
  {
   "cell_type": "code",
   "execution_count": null,
   "id": "c340ded6",
   "metadata": {},
   "outputs": [],
   "source": [
    "#  make a list [ review , star]\n",
    "for i in range(0, len(reviews)):\n",
    "    new_record = [reviews[i], stars[i]]\n",
    "    result.append(new_record)\n"
   ]
  },
  {
   "cell_type": "code",
   "execution_count": null,
   "id": "d5dda168",
   "metadata": {},
   "outputs": [],
   "source": [
    "#  make a json file from list\n",
    "columns = [\"review\", \"star\"]\n",
    "df = pd.DataFrame.from_records(result, columns=columns)\n",
    "df.to_csv(\"review\")\n",
    "\n",
    "print(f\"Total {len(URL)} page and  {len(result)} record.\")"
   ]
  }
 ],
 "metadata": {
  "kernelspec": {
   "display_name": "Python 3 (ipykernel)",
   "language": "python",
   "name": "python3"
  },
  "language_info": {
   "codemirror_mode": {
    "name": "ipython",
    "version": 3
   },
   "file_extension": ".py",
   "mimetype": "text/x-python",
   "name": "python",
   "nbconvert_exporter": "python",
   "pygments_lexer": "ipython3",
   "version": "3.9.13"
  }
 },
 "nbformat": 4,
 "nbformat_minor": 5
}
